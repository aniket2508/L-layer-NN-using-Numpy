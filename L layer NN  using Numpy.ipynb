{
 "cells": [
  {
   "cell_type": "code",
   "execution_count": 11,
   "metadata": {},
   "outputs": [],
   "source": [
    "import numpy as np\n",
    "import matplotlib.pyplot as plt"
   ]
  },
  {
   "cell_type": "markdown",
   "metadata": {},
   "source": [
    "## MAKING L LAYER NN"
   ]
  },
  {
   "cell_type": "code",
   "execution_count": 12,
   "metadata": {},
   "outputs": [],
   "source": [
    "def initialize_parameters(dims):\n",
    "    \n",
    "    np.random.seed(2)  #to ensure same weights everytime\n",
    "    \n",
    "    parameters = {}\n",
    "    L = len(dims) - 1\n",
    "    for l in range(L):\n",
    "        parameters[\"W\" + str(l+1)] = np.random.randn(dims[l+1], dims[l]) * np.sqrt(2 / dims[l]) #He initialization of weights\n",
    "        parameters[\"b\" + str(l+1)] = np.zeros((dims[l+1], 1))\n",
    "        \n",
    "    return parameters"
   ]
  },
  {
   "cell_type": "code",
   "execution_count": 13,
   "metadata": {},
   "outputs": [],
   "source": [
    "def softmax(z):    #for multi-class classification\n",
    "    t = np.exp(z)\n",
    "    k = t.sum(axis = 0)\n",
    "    return t / k\n",
    "    \n",
    "def sigmoid(z):    #for binary classification\n",
    "    return 1 / (1 + np.exp(-z))\n",
    "\n",
    "def relu(z):\n",
    "    return np.maximum(0 , z)"
   ]
  },
  {
   "cell_type": "code",
   "execution_count": 14,
   "metadata": {},
   "outputs": [],
   "source": [
    "def forward_propagation(X, parameters):\n",
    "    \n",
    "    values = {}\n",
    "    L = len(parameters)//2\n",
    "    values[\"A0\"] = X\n",
    "    for l in range(L - 1):\n",
    "        values[\"Z\" + str(l+1)] = np.dot(parameters[\"W\" + str(l+1)], values[\"A\" + str(l)]) + parameters[\"b\" + str(l+1)]\n",
    "        values[\"A\" + str(l+1)] = relu(values[\"Z\" + str(l+1)])\n",
    "    \n",
    "    values[\"Z\" + str(L)] = np.dot(parameters[\"W\" + str(L)], values[\"A\" + str(L-1)]) + parameters[\"b\" + str(L)]\n",
    "    values[\"A\" + str(L)] = sigmoid(values[\"Z\" + str(L)])   # can be changed to softmax\n",
    "    \n",
    "    return values"
   ]
  },
  {
   "cell_type": "code",
   "execution_count": 15,
   "metadata": {},
   "outputs": [],
   "source": [
    "def get_cost(AL, Y):\n",
    "    return ((- 1 * (Y * np.log(AL))).sum(axis = 0)).mean()"
   ]
  },
  {
   "cell_type": "code",
   "execution_count": 16,
   "metadata": {},
   "outputs": [],
   "source": [
    "def back_propagation(Y, values, parameters):\n",
    "    \n",
    "    m = Y.shape[0]\n",
    "    grads = {}\n",
    "    temps = {}\n",
    "    L = len(parameters)//2\n",
    "    temps[\"dZ\" + str(L)] = values[\"A\" + str(L)] - Y\n",
    "    grads[\"dW\" + str(L)] = (1 / m) * np.dot(temps[\"dZ\" + str(L)], values[\"A\" + str(L-1)].T)\n",
    "    grads[\"db\" + str(L)] = (1 / m) * temps[\"dZ\" + str(L)].sum(axis = 1, keepdims = True)\n",
    "    \n",
    "    for l in range(L - 1, 0, -1):\n",
    "        temps[\"dZ\" + str(l)] = np.dot(parameters[\"W\" + str(l+1)].T, temps[\"dZ\" + str(l+1)]) * np.int64(values[\"A\" + str(l)] > 0)\n",
    "        grads[\"dW\" + str(l)] = (1 / m) * np.dot(temps[\"dZ\" + str(l)], values[\"A\" + str(l-1)].T)\n",
    "        grads[\"db\" + str(l)] = (1 / m) * temps[\"dZ\" + str(l)].sum(axis = 1, keepdims = True)\n",
    "    \n",
    "    return grads"
   ]
  },
  {
   "cell_type": "code",
   "execution_count": 17,
   "metadata": {},
   "outputs": [],
   "source": [
    "def model(x_train, y_train, x_test, y_test, alpha, num_iterations, dims):\n",
    "    \n",
    "    costs = []\n",
    "    iterations = []\n",
    "    parameters = initialize_parameters(dims)\n",
    "    L = len(parameters)//2\n",
    "    \n",
    "    for i in range(num_iterations):\n",
    "        \n",
    "        values = forward_propagation(x_train, parameters)\n",
    "        AL = values[\"A\" + str(L)]\n",
    "        \n",
    "        cost = get_cost(AL, y_train)\n",
    "        if(i % 100 == 0):\n",
    "            if(i % 1000 == 0):\n",
    "                print(\"cost after %i iterations is = %f\" %(i, cost))\n",
    "            costs.append(cost)\n",
    "            iterations.append(i)\n",
    "            \n",
    "        grads = back_propagation(y_train, values, parameters)\n",
    "        for l in range(L):\n",
    "            parameters[\"W\" + str(l+1)] -= alpha * grads[\"dW\" + str(l+1)]\n",
    "            parameters[\"b\" + str(l+1)] -= alpha * grads[\"db\" + str(l+1)]\n",
    "    \n",
    "    plt.plot(iterations,costs)\n",
    "    plt.show()\n",
    "    \n",
    "    predictions_test = forward_propagation(x_test, parameters)\n",
    "    predictions_train = forward_propagation(x_train, parameters)\n",
    "    return predictions_train[\"A\" + str(L)], predictions_test[\"A\" + str(L)]"
   ]
  },
  {
   "cell_type": "markdown",
   "metadata": {},
   "source": [
    "## IMPLEMENTING THIS NETWORK ON BREAST CANCER DATASET"
   ]
  },
  {
   "cell_type": "code",
   "execution_count": 18,
   "metadata": {},
   "outputs": [],
   "source": [
    "from sklearn import datasets\n",
    "from sklearn.model_selection import train_test_split as tts\n",
    "from sklearn.preprocessing import StandardScaler"
   ]
  },
  {
   "cell_type": "code",
   "execution_count": 19,
   "metadata": {},
   "outputs": [],
   "source": [
    "cancer = datasets.load_breast_cancer()\n",
    "x = cancer.data\n",
    "y = cancer.target\n",
    "\n",
    "x_train, x_test, y_train, y_test = tts(x, y, random_state = 0)\n",
    "x_train = x_train\n",
    "x_test = x_test\n",
    "y_train = y_train.T\n",
    "y_test = y_test.T\n",
    "\n",
    "ss = StandardScaler()\n",
    "x_train = ss.fit_transform(x_train).T\n",
    "x_test = ss.transform(x_test).T"
   ]
  },
  {
   "cell_type": "code",
   "execution_count": 20,
   "metadata": {},
   "outputs": [
    {
     "name": "stdout",
     "output_type": "stream",
     "text": [
      "cost after 0 iterations is = 0.543099\n",
      "cost after 1000 iterations is = 0.042862\n",
      "cost after 2000 iterations is = 0.027329\n",
      "cost after 3000 iterations is = 0.021212\n",
      "cost after 4000 iterations is = 0.017307\n",
      "cost after 5000 iterations is = 0.014863\n",
      "cost after 6000 iterations is = 0.013156\n",
      "cost after 7000 iterations is = 0.011901\n",
      "cost after 8000 iterations is = 0.010888\n",
      "cost after 9000 iterations is = 0.009919\n",
      "cost after 10000 iterations is = 0.009163\n",
      "cost after 11000 iterations is = 0.008415\n",
      "cost after 12000 iterations is = 0.007868\n",
      "cost after 13000 iterations is = 0.007388\n",
      "cost after 14000 iterations is = 0.006941\n",
      "cost after 15000 iterations is = 0.006528\n",
      "cost after 16000 iterations is = 0.006159\n",
      "cost after 17000 iterations is = 0.005790\n",
      "cost after 18000 iterations is = 0.005437\n",
      "cost after 19000 iterations is = 0.005108\n",
      "cost after 20000 iterations is = 0.004801\n",
      "cost after 21000 iterations is = 0.004494\n",
      "cost after 22000 iterations is = 0.004204\n",
      "cost after 23000 iterations is = 0.003928\n",
      "cost after 24000 iterations is = 0.003669\n",
      "cost after 25000 iterations is = 0.003423\n",
      "cost after 26000 iterations is = 0.003193\n",
      "cost after 27000 iterations is = 0.002976\n",
      "cost after 28000 iterations is = 0.002772\n",
      "cost after 29000 iterations is = 0.002486\n",
      "cost after 30000 iterations is = 0.002234\n",
      "cost after 31000 iterations is = 0.002019\n",
      "cost after 32000 iterations is = 0.001855\n",
      "cost after 33000 iterations is = 0.001691\n",
      "cost after 34000 iterations is = 0.001558\n",
      "cost after 35000 iterations is = 0.001442\n",
      "cost after 36000 iterations is = 0.001338\n",
      "cost after 37000 iterations is = 0.001244\n",
      "cost after 38000 iterations is = 0.001161\n",
      "cost after 39000 iterations is = 0.001085\n",
      "cost after 40000 iterations is = 0.001017\n",
      "cost after 41000 iterations is = 0.000955\n",
      "cost after 42000 iterations is = 0.000900\n",
      "cost after 43000 iterations is = 0.000849\n",
      "cost after 44000 iterations is = 0.000803\n",
      "cost after 45000 iterations is = 0.000760\n",
      "cost after 46000 iterations is = 0.000722\n",
      "cost after 47000 iterations is = 0.000686\n",
      "cost after 48000 iterations is = 0.000654\n",
      "cost after 49000 iterations is = 0.000625\n"
     ]
    },
    {
     "data": {
      "image/png": "[encoded data removed]",
      "text/plain": [
       "<Figure size 432x288 with 1 Axes>"
      ]
     },
     "metadata": {
      "needs_background": "light"
     },
     "output_type": "display_data"
    }
   ],
   "source": [
    "dims = [x_train.shape[0], 15, 10, 1]\n",
    "pred_train, pred_test  = model(x_train, y_train, x_test, y_test, 0.0085, 50000, dims)"
   ]
  },
  {
   "cell_type": "code",
   "execution_count": 24,
   "metadata": {},
   "outputs": [
    {
     "name": "stdout",
     "output_type": "stream",
     "text": [
      "Training Accuracy :  1.0\n",
      "Testing Accuracy :  0.9790209790209791\n"
     ]
    }
   ],
   "source": [
    "pred_test = np.int64(pred_test > 0.5)\n",
    "acc_test = np.equal(pred_test, y_test).sum() / y_test.shape[0]\n",
    "pred_train = np.int64(pred_train > 0.5)\n",
    "acc_train = np.equal(pred_train, y_train).sum() / y_train.shape[0]\n",
    "\n",
    "print('Training Accuracy : ', acc_train)\n",
    "print('Testing Accuracy : ', acc_test)"
   ]
  }
 ],
 "metadata": {
  "kernelspec": {
   "display_name": "Python 3",
   "language": "python",
   "name": "python3"
  },
  "language_info": {
   "codemirror_mode": {
    "name": "ipython",
    "version": 3
   },
   "file_extension": ".py",
   "mimetype": "text/x-python",
   "name": "python",
   "nbconvert_exporter": "python",
   "pygments_lexer": "ipython3",
   "version": "3.7.4"
  }
 },
 "nbformat": 4,
 "nbformat_minor": 2
}
